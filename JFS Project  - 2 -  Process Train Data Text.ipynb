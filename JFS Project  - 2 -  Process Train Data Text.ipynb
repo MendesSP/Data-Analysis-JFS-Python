{
 "cells": [
  {
   "cell_type": "markdown",
   "metadata": {},
   "source": [
    "##Import libraries"
   ]
  },
  {
   "cell_type": "code",
   "execution_count": 136,
   "metadata": {
    "collapsed": false
   },
   "outputs": [],
   "source": [
    "import graphlab as gl\n",
    "import pandas as pd"
   ]
  },
  {
   "cell_type": "markdown",
   "metadata": {},
   "source": [
    "##Load Data"
   ]
  },
  {
   "cell_type": "code",
   "execution_count": 137,
   "metadata": {
    "collapsed": false
   },
   "outputs": [
    {
     "name": "stdout",
     "output_type": "stream",
     "text": [
      "PROGRESS: Finished parsing file /Users/andremendes/OneDrive/Estudar Projects/JFS/Python Data/train_data_app.csv\n",
      "PROGRESS: Parsing completed. Parsed 10 lines in 0.02632 secs.\n",
      "------------------------------------------------------\n",
      "Inferred types from first line of file as \n",
      "column_type_hints=[str,str]\n",
      "If parsing fails due to incorrect types, you can correct\n",
      "the inferred type list above and pass it to read_csv in\n",
      "the column_type_hints argument\n",
      "------------------------------------------------------\n",
      "PROGRESS: Finished parsing file /Users/andremendes/OneDrive/Estudar Projects/JFS/Python Data/train_data_app.csv\n",
      "PROGRESS: Parsing completed. Parsed 10 lines in 0.012216 secs.\n",
      "PROGRESS: Finished parsing file /Users/andremendes/OneDrive/Estudar Projects/JFS/Python Data/train_data_rep.csv\n",
      "PROGRESS: Parsing completed. Parsed 10 lines in 0.013607 secs.\n",
      "------------------------------------------------------\n",
      "Inferred types from first line of file as \n",
      "column_type_hints=[str,str]\n",
      "If parsing fails due to incorrect types, you can correct\n",
      "the inferred type list above and pass it to read_csv in\n",
      "the column_type_hints argument\n",
      "------------------------------------------------------\n",
      "PROGRESS: Finished parsing file /Users/andremendes/OneDrive/Estudar Projects/JFS/Python Data/train_data_rep.csv\n",
      "PROGRESS: Parsing completed. Parsed 10 lines in 0.011252 secs.\n",
      "PROGRESS: Finished parsing file /Users/andremendes/OneDrive/Estudar Projects/JFS/Python Data/train_data_text.csv\n",
      "PROGRESS: Parsing completed. Parsed 10 lines in 0.020918 secs.\n",
      "------------------------------------------------------\n",
      "Inferred types from first line of file as \n",
      "column_type_hints=[str,str,str,str,str,str,str,str,str,str,str,str,str,str,str,str,str,str,str,str,str,str,str,str,str,str,str,str,str,str,str,str,str,str,str,str,str,str,str,str,str,str,str,str,str,str,str,str,str,str,str,str,str,str,str,str,str,str,str,str,str,str,str,str,str,str,str,str,str,str,str,str,str,str,str,str,str,str,str,str,str,str,str,str,str,str,str,str,str,str,str,str,str,str,str,str,str,str,str,str,str,str,str,str,str,str,str,str,str,str,str,str,str,str,str,str,str,str,str,str,str,str,str,str,str,str,str,str,str,str,str,str,str,str,str,str,str,str,str,str,str,str,str,str,str,str,str,str,str,str,str,str,str,str,str,str,str,str,str,str,str,str,str,str,str,str,str,str,str,str,str,str,str,str,str,str,str,str,str,str,str,str,str,str,str,str,str,str,str,str,str,str,str,str,str,str,str,str,str,str,str,str,str,str,str,str,str,str,str,str,str,str,str,str,str,str,str,str,str,str,str,str,str,str,str,str,str,str,str,str,str,str,str,str,str,str,str,str,str,str,str,str,str,str,str,str,str,str,str,str,str,str,str,str,str,str,str,str,str,str,str,str,str,str,str,str,str,str,str,str,str,str,str,str,str,str,str,str,str,str,str,str,str,str,str,str,str,str,str,str,str,str,str,str,str,str,str,str,str,str,str,str,str,str,str,str,str,str,str,str,str,str,str,str,str,str,str,str,str,str,str,str,str,str,str,str,str,str,str,str,str,str,str,str,str,str,str,str,str,str,str,str]\n",
      "If parsing fails due to incorrect types, you can correct\n",
      "the inferred type list above and pass it to read_csv in\n",
      "the column_type_hints argument\n",
      "------------------------------------------------------\n",
      "PROGRESS: Finished parsing file /Users/andremendes/OneDrive/Estudar Projects/JFS/Python Data/train_data_text.csv\n",
      "PROGRESS: Parsing completed. Parsed 10 lines in 0.019542 secs.\n",
      "PROGRESS: Finished parsing file /Users/andremendes/OneDrive/Estudar Projects/JFS/Python Data/test_data_text.csv\n",
      "PROGRESS: Parsing completed. Parsed 10 lines in 0.014107 secs.\n",
      "------------------------------------------------------\n",
      "Inferred types from first line of file as \n",
      "column_type_hints=[str,str,str,str,str,str,str,str,str,str,str,str,str,str,str,str,str,str,str,str,str,str,str,str,str,str,str,str,str,str,str,str,str,str,str,str,str,str,str,str,str,str,str,str,str,str,str,str,str,str,str,str,str,str,str,str,str,str,str,str,str,str,str,str,str,str,str,str,str,str,str,str,str,str,str,str,str,str,str,str,str,str,str,str,str,str,str,str]\n",
      "If parsing fails due to incorrect types, you can correct\n",
      "the inferred type list above and pass it to read_csv in\n",
      "the column_type_hints argument\n",
      "------------------------------------------------------\n",
      "PROGRESS: Finished parsing file /Users/andremendes/OneDrive/Estudar Projects/JFS/Python Data/test_data_text.csv\n",
      "PROGRESS: Parsing completed. Parsed 10 lines in 0.011498 secs.\n"
     ]
    }
   ],
   "source": [
    "path = '/Users/andremendes/OneDrive/Estudar Projects/JFS/Python Data/'\n",
    "approved = gl.SFrame.read_csv(path+'train_data_app.csv')\n",
    "reproved = gl.SFrame.read_csv(path+'train_data_rep.csv')\n",
    "train_data_text = gl.SFrame.read_csv(path+'train_data_text.csv')\n",
    "test_data_text = gl.SFrame.read_csv(path+'test_data_text.csv')"
   ]
  },
  {
   "cell_type": "markdown",
   "metadata": {},
   "source": [
    "##Generate TF-IDF for approved candidates"
   ]
  },
  {
   "cell_type": "code",
   "execution_count": 138,
   "metadata": {
    "collapsed": false
   },
   "outputs": [],
   "source": [
    "approved['word_count'] = gl.text_analytics.count_words(approved['all_text'])\n",
    "tfidf = gl.text_analytics.tf_idf(approved['word_count'])\n",
    "approved['tfidf'] = tfidf['docs']"
   ]
  },
  {
   "cell_type": "markdown",
   "metadata": {},
   "source": [
    "##Generate TF-IDF for reproved candidates"
   ]
  },
  {
   "cell_type": "code",
   "execution_count": 139,
   "metadata": {
    "collapsed": true
   },
   "outputs": [],
   "source": [
    "reproved['word_count'] = gl.text_analytics.count_words(reproved['all_text'])\n",
    "tfidf = gl.text_analytics.tf_idf(reproved['word_count'])\n",
    "reproved['tfidf'] = tfidf['docs']"
   ]
  },
  {
   "cell_type": "markdown",
   "metadata": {},
   "source": [
    "##Get the email to each candidate as reference"
   ]
  },
  {
   "cell_type": "code",
   "execution_count": 140,
   "metadata": {
    "collapsed": true
   },
   "outputs": [],
   "source": [
    "#Train Set\n",
    "tr = train_data_text.to_dataframe()\n",
    "candidates_train = list(tr.columns.values)\n",
    "candidates_train.remove('X1')\n",
    "cd_train = pd.DataFrame(candidates_train)\n",
    "\n",
    "#Test Set\n",
    "tr = test_data_text.to_dataframe()\n",
    "candidates_test = list(tr.columns.values)\n",
    "candidates_test.remove('X1')\n",
    "cd_test = pd.DataFrame(candidates_test)"
   ]
  },
  {
   "cell_type": "markdown",
   "metadata": {},
   "source": [
    "##Generate TF-IDF to each candidate and compare with TF-IDF for approved and reproved candidates"
   ]
  },
  {
   "cell_type": "markdown",
   "metadata": {},
   "source": [
    "###Train Set"
   ]
  },
  {
   "cell_type": "code",
   "execution_count": 142,
   "metadata": {
    "collapsed": false
   },
   "outputs": [],
   "source": [
    "for email in candidates_train:\n",
    "    #get the tf-idf for the candidate\n",
    "    train_data_text[email+'_word_count'] = gl.text_analytics.count_words(train_data_text[email])\n",
    "    tfidf = gl.text_analytics.tf_idf(train_data_text[email+'_word_count'])\n",
    "    train_data_text[email+'_tfidf'] = tfidf['docs']\n",
    "    #initialize the positive and negative column\n",
    "    train_data_text[email+'_positive'] = train_data_text[email].apply(lambda x: 0.8000000)\n",
    "    train_data_text[email+'_negative'] = train_data_text[email].apply(lambda x: 0.8000000)\n",
    "    #prepare a SFrame to be converted to pandas\n",
    "    sf = gl.SFrame({\"positive\":train_data_text[email+'_positive'],\"negative\":train_data_text[email+'_negative']})\n",
    "    #convert SFrame to pandas because columns in SFrame are immutable, no access to rows\n",
    "    sf_pd = sf.to_dataframe()\n",
    "    #Calculate the distance from tf-idf candidate to approved and reproved candidates\n",
    "    i=0\n",
    "    for i in range(10):\n",
    "        sf_pd['negative'][i] = gl.distances.cosine(train_data_text[email+'_tfidf'][i],reproved['tfidf'][i])\n",
    "        sf_pd['positive'][i] = gl.distances.cosine(train_data_text[email+'_tfidf'][i],approved['tfidf'][i])\n",
    "    #convert back pandas to SFrame\n",
    "    pd_sf = gl.SFrame(sf_pd)\n",
    "    #update the distances for the candidate in the original SFrame\n",
    "    train_data_text[email+'_positive'] = pd_sf['positive']\n",
    "    train_data_text[email+'_negative'] = pd_sf['negative']"
   ]
  },
  {
   "cell_type": "markdown",
   "metadata": {},
   "source": [
    "###Test Set"
   ]
  },
  {
   "cell_type": "code",
   "execution_count": 143,
   "metadata": {
    "collapsed": false
   },
   "outputs": [],
   "source": [
    "for email in candidates_test:\n",
    "    #get the tf-idf for the candidate\n",
    "    test_data_text[email+'_word_count'] = gl.text_analytics.count_words(test_data_text[email])\n",
    "    tfidf = gl.text_analytics.tf_idf(test_data_text[email+'_word_count'])\n",
    "    test_data_text[email+'_tfidf'] = tfidf['docs']\n",
    "    #initialize the positive and negative column\n",
    "    test_data_text[email+'_positive'] = test_data_text[email].apply(lambda x: 0.8000000)\n",
    "    test_data_text[email+'_negative'] = test_data_text[email].apply(lambda x: 0.8000000)\n",
    "    #prepare a SFrame to be converted to pandas\n",
    "    sf = gl.SFrame({\"positive\":test_data_text[email+'_positive'],\"negative\":test_data_text[email+'_negative']})\n",
    "    #convert SFrame to pandas because columns in SFrame are immutable, no access to rows\n",
    "    sf_pd = sf.to_dataframe()\n",
    "    #Calculate the distance from tf-idf candidate to approved and reproved candidates\n",
    "    i=0\n",
    "    for i in range(10):\n",
    "        sf_pd['negative'][i] = gl.distances.cosine(test_data_text[email+'_tfidf'][i],reproved['tfidf'][i])\n",
    "        sf_pd['positive'][i] = gl.distances.cosine(test_data_text[email+'_tfidf'][i],approved['tfidf'][i])\n",
    "    #convert back pandas to SFrame\n",
    "    pd_sf = gl.SFrame(sf_pd)\n",
    "    #update the distances for the candidate in the original SFrame\n",
    "    test_data_text[email+'_positive'] = pd_sf['positive']\n",
    "    test_data_text[email+'_negative'] = pd_sf['negative']"
   ]
  },
  {
   "cell_type": "markdown",
   "metadata": {},
   "source": [
    "##Save Processed Data"
   ]
  },
  {
   "cell_type": "code",
   "execution_count": 145,
   "metadata": {
    "collapsed": false
   },
   "outputs": [],
   "source": [
    "train_data_text.save(path+'train_data_processed.csv', format='csv')\n",
    "cd_train.to_csv(path+'train_data_candidates.csv', index=False)\n",
    "test_data_text.save(path+'test_data_processed.csv', format='csv')\n",
    "cd_test.to_csv(path+'test_data_candidates.csv', index=False)"
   ]
  },
  {
   "cell_type": "code",
   "execution_count": null,
   "metadata": {
    "collapsed": true
   },
   "outputs": [],
   "source": []
  }
 ],
 "metadata": {
  "kernelspec": {
   "display_name": "Python 2",
   "language": "python",
   "name": "python2"
  },
  "language_info": {
   "codemirror_mode": {
    "name": "ipython",
    "version": 2
   },
   "file_extension": ".py",
   "mimetype": "text/x-python",
   "name": "python",
   "nbconvert_exporter": "python",
   "pygments_lexer": "ipython2",
   "version": "2.7.10"
  }
 },
 "nbformat": 4,
 "nbformat_minor": 0
}
