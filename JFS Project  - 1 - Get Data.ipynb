{
 "cells": [
  {
   "cell_type": "markdown",
   "metadata": {},
   "source": [
    "##Import Libraries"
   ]
  },
  {
   "cell_type": "code",
   "execution_count": 219,
   "metadata": {
    "collapsed": false
   },
   "outputs": [],
   "source": [
    "import graphlab as gl\n",
    "import pandas as pd\n",
    "import numpy as np\n",
    "import sklearn as sk"
   ]
  },
  {
   "cell_type": "markdown",
   "metadata": {},
   "source": [
    "##Read the Original Data"
   ]
  },
  {
   "cell_type": "code",
   "execution_count": 220,
   "metadata": {
    "collapsed": false
   },
   "outputs": [],
   "source": [
    "path = '/Users/andremendes/OneDrive/Estudar Projects/JFS/Python Data/'\n",
    "data = pd.read_csv(path+'data.csv')"
   ]
  },
  {
   "cell_type": "markdown",
   "metadata": {},
   "source": [
    "##Prepare Training, Test, Approved and Reproved Data"
   ]
  },
  {
   "cell_type": "code",
   "execution_count": 221,
   "metadata": {
    "collapsed": false
   },
   "outputs": [],
   "source": [
    "col_name = ['AE1','AEDP1','AE2','AEDP2','AE3','AEDP3','HP 1','HP 2','HP 3','PAP']\n",
    "col_number = ['Age','Gender','Type School','School Year','GPA','Upload Transcript','Support for extra activities','English','know about Estudar','english test','english percentil']\n",
    "##shuffle the data\n",
    "np.random.seed(1)\n",
    "data  = data.reindex(np.random.permutation(data.index))\n",
    "##Separate Test and Training Set\n",
    "train, test = sk.cross_validation.train_test_split(data, test_size = 0.2)\n",
    "##Separate Approved and Reproved in Training Set\n",
    "train_data_approved = train[train['result'] == 1]\n",
    "train_data_reproved = train[train['result'] == 0]\n",
    "train_results = train['result']\n",
    "test_results = test['result']"
   ]
  },
  {
   "cell_type": "markdown",
   "metadata": {},
   "source": [
    "##prepare train_data_general"
   ]
  },
  {
   "cell_type": "code",
   "execution_count": 222,
   "metadata": {
    "collapsed": false
   },
   "outputs": [],
   "source": [
    "train_data_general = train\n",
    "del train_data_general['result']\n",
    "\n",
    "##get only the text\n",
    "train_data_text = pd.DataFrame({\"email\":train_data_general['email']})\n",
    "train_data_text_approved = pd.DataFrame({\"email\":train_data_approved['email']})\n",
    "train_data_text_reproved = pd.DataFrame({\"email\":train_data_reproved['email']})\n",
    "for col in col_name:\n",
    "    train_data_text[col]=train_data_general[col]\n",
    "    train_data_text_approved[col]=train_data_approved[col]\n",
    "    train_data_text_reproved[col]=train_data_reproved[col]\n",
    "    \n",
    "##get only the numbers\n",
    "train_data_number = pd.DataFrame({\"email\":train_data_general['email']})\n",
    "for col in col_number:\n",
    "    train_data_number[col]=train_data_general[col]"
   ]
  },
  {
   "cell_type": "markdown",
   "metadata": {},
   "source": [
    "##prepare test_data_general"
   ]
  },
  {
   "cell_type": "code",
   "execution_count": 223,
   "metadata": {
    "collapsed": true
   },
   "outputs": [],
   "source": [
    "test_data_general = test\n",
    "del test_data_general['result']\n",
    "\n",
    "##get only the text\n",
    "test_data_text = pd.DataFrame({\"email\":test_data_general['email']})\n",
    "for col in col_name:\n",
    "    test_data_text[col]=test_data_general[col]\n",
    "\n",
    "##get only the numbers\n",
    "test_data_number = pd.DataFrame({\"email\":test_data_general['email']})\n",
    "for col in col_number:\n",
    "    test_data_number[col]=test_data_general[col]"
   ]
  },
  {
   "cell_type": "markdown",
   "metadata": {
    "collapsed": false
   },
   "source": [
    "##Concatenate all the approved  and reproved answers in one cell for each feature"
   ]
  },
  {
   "cell_type": "code",
   "execution_count": 224,
   "metadata": {
    "collapsed": true
   },
   "outputs": [],
   "source": [
    "#train data\n",
    "train_data_text = train_data_text.set_index('email')\n",
    "train_data_text = train_data_text.transpose()\n",
    "train_data_text['all_text'] = train_data_text.apply(lambda x: ' '.join(x.astype(str).values), axis=1)\n",
    "\n",
    "#train data approved\n",
    "train_data_text_approved = train_data_text_approved.set_index('email')\n",
    "train_data_text_approved = train_data_text_approved.transpose()\n",
    "train_data_text_approved['all_text'] = train_data_text_approved.apply(lambda x: ' '.join(x.astype(str).values), axis=1)\n",
    "\n",
    "#train data reproved\n",
    "train_data_text_reproved = train_data_text_reproved.set_index('email')\n",
    "train_data_text_reproved = train_data_text_reproved.transpose()\n",
    "train_data_text_reproved['all_text'] = train_data_text_reproved.apply(lambda x: ' '.join(x.astype(str).values), axis=1)\n",
    "\n",
    "#test data\n",
    "test_data_text = test_data_text.set_index('email')\n",
    "test_data_text = test_data_text.transpose()\n",
    "test_data_text['all_text'] = test_data_text.apply(lambda x: ' '.join(x.astype(str).values), axis=1)"
   ]
  },
  {
   "cell_type": "markdown",
   "metadata": {},
   "source": [
    "##Get all the text for each feature in a specific row"
   ]
  },
  {
   "cell_type": "code",
   "execution_count": 225,
   "metadata": {
    "collapsed": true
   },
   "outputs": [],
   "source": [
    "approved_text = pd.DataFrame(train_data_text_approved['all_text'])\n",
    "reproved_text = pd.DataFrame(train_data_text_reproved['all_text'])"
   ]
  },
  {
   "cell_type": "markdown",
   "metadata": {},
   "source": [
    "##Save the data"
   ]
  },
  {
   "cell_type": "code",
   "execution_count": 226,
   "metadata": {
    "collapsed": true
   },
   "outputs": [],
   "source": [
    "##save vocabulary\n",
    "approved_text.to_csv(path+'train_data_app.csv')\n",
    "reproved_text.to_csv(path+'train_data_rep.csv')\n",
    "\n",
    "##save train data\n",
    "train_results.to_csv(path+'train_data_results.csv', index=False)\n",
    "train_data_general.to_csv(path+'train_data_general.csv')\n",
    "train_data_text.to_csv(path+'train_data_text.csv')\n",
    "train_data_number.to_csv(path+'train_data_num.csv')\n",
    "\n",
    "##save test data\n",
    "test_results.to_csv(path+'test_data_results.csv', index=False)\n",
    "test_data_general.to_csv(path+'test_data_general.csv')\n",
    "test_data_text.to_csv(path+'test_data_text.csv')\n",
    "test_data_number.to_csv(path+'test_data_num.csv')"
   ]
  },
  {
   "cell_type": "code",
   "execution_count": null,
   "metadata": {
    "collapsed": true
   },
   "outputs": [],
   "source": []
  }
 ],
 "metadata": {
  "kernelspec": {
   "display_name": "Python 2",
   "language": "python",
   "name": "python2"
  },
  "language_info": {
   "codemirror_mode": {
    "name": "ipython",
    "version": 2
   },
   "file_extension": ".py",
   "mimetype": "text/x-python",
   "name": "python",
   "nbconvert_exporter": "python",
   "pygments_lexer": "ipython2",
   "version": "2.7.10"
  }
 },
 "nbformat": 4,
 "nbformat_minor": 0
}
