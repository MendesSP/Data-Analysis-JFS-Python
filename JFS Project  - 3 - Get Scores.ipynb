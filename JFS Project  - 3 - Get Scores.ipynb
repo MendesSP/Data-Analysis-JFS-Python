{
 "cells": [
  {
   "cell_type": "markdown",
   "metadata": {},
   "source": [
    "##Initialize Libraries"
   ]
  },
  {
   "cell_type": "code",
   "execution_count": 1,
   "metadata": {
    "collapsed": false
   },
   "outputs": [
    {
     "name": "stderr",
     "output_type": "stream",
     "text": [
      "A newer version of GraphLab Create (v1.7.1) is available! Your current version is v1.6.1.\n",
      "\n",
      "You can use pip to upgrade the graphlab-create package. For more information see https://dato.com/products/create/upgrade.\n"
     ]
    }
   ],
   "source": [
    "import graphlab as gl\n",
    "import pandas as pd"
   ]
  },
  {
   "cell_type": "markdown",
   "metadata": {},
   "source": [
    "##Read the Data"
   ]
  },
  {
   "cell_type": "code",
   "execution_count": 2,
   "metadata": {
    "collapsed": false
   },
   "outputs": [
    {
     "name": "stderr",
     "output_type": "stream",
     "text": [
      "[INFO] This non-commercial license of GraphLab Create is assigned to andre.mendes@nyu.edu and will expire on November 09, 2016. For commercial licensing options, visit https://dato.com/buy/.\n",
      "\n",
      "[INFO] Start server at: ipc:///tmp/graphlab_server-1911 - Server binary: /Users/andremendes/.graphlab/anaconda/lib/python2.7/site-packages/graphlab/unity_server - Server log: /tmp/graphlab_server_1448689176.log\n",
      "[INFO] GraphLab Server Version: 1.6.1\n"
     ]
    },
    {
     "name": "stdout",
     "output_type": "stream",
     "text": [
      "PROGRESS: Finished parsing file /Users/andremendes/OneDrive/Estudar Projects/JFS/Python Data/train_data_processed.csv\n",
      "PROGRESS: Parsing completed. Parsed 10 lines in 0.07636 secs.\n",
      "------------------------------------------------------\n",
      "Inferred types from first line of file as \n",
      "column_type_hints=[str,str,str,str,str,str,str,str,str,str,str,str,str,str,str,str,str,str,str,str,str,str,str,str,str,str,str,str,str,str,str,str,str,str,str,str,str,str,str,str,str,str,str,str,str,str,str,str,str,str,str,str,str,str,str,str,str,str,str,str,str,str,str,str,str,str,str,str,str,str,str,str,str,str,str,str,str,str,str,str,str,str,str,str,str,str,str,str,str,str,str,str,str,str,str,str,str,str,str,str,str,str,str,str,str,str,str,str,str,str,str,str,str,str,str,str,str,str,str,str,str,str,str,str,str,str,str,str,str,str,str,str,str,str,str,str,str,str,str,str,str,str,str,str,str,str,str,str,str,str,str,str,str,str,str,str,str,str,str,str,str,str,str,str,str,str,str,str,str,str,str,str,str,str,str,str,str,str,str,str,str,str,str,str,str,str,str,str,str,str,str,str,str,str,str,str,str,str,str,str,str,str,str,str,str,str,str,str,str,str,str,str,str,str,str,str,str,str,str,str,str,str,str,str,str,str,str,str,str,str,str,str,str,str,str,str,str,str,str,str,str,str,str,str,str,str,str,str,str,str,str,str,str,str,str,str,str,str,str,str,str,str,str,str,str,str,str,str,str,str,str,str,str,str,str,str,str,str,str,str,str,str,str,str,str,str,str,str,str,str,str,str,str,str,str,str,str,str,str,str,str,str,str,str,str,str,str,str,str,str,str,str,str,str,str,str,str,str,str,str,str,str,str,str,str,str,str,str,str,str,str,str,str,str,str,str,str,str,str,str,str,str,dict,dict,float,float,str,str,float,float,dict,dict,float,float,dict,dict,float,float,dict,dict,float,float,dict,dict,float,float,dict,dict,float,float,dict,dict,float,float,dict,dict,float,float,dict,dict,int,int,dict,dict,int,int,str,str,float,float,dict,dict,float,float,dict,dict,int,int,str,str,float,float,dict,dict,float,float,dict,dict,float,float,dict,dict,float,float,dict,dict,float,float,dict,dict,float,float,dict,dict,float,float,dict,str,float,float,dict,dict,int,int,dict,dict,int,int,dict,dict,int,int,dict,dict,int,int,str,str,float,float,dict,dict,float,float,str,str,float,float,dict,dict,float,float,dict,dict,float,float,dict,dict,float,float,str,str,float,float,dict,dict,int,int,dict,dict,float,float,dict,dict,float,float,dict,dict,int,int,dict,dict,float,float,dict,dict,float,float,dict,dict,float,float,dict,dict,int,int,dict,dict,float,float,dict,dict,int,int,dict,dict,float,float,dict,dict,float,float,dict,dict,int,int,dict,dict,float,float,dict,dict,float,float,dict,dict,float,float,dict,dict,float,float,dict,dict,float,float,dict,dict,float,float,dict,dict,float,float,str,str,float,float,dict,dict,float,float,dict,dict,int,int,str,str,float,float,str,str,float,float,dict,dict,int,int,dict,dict,int,int,dict,dict,float,float,dict,dict,int,int,dict,dict,float,float,dict,dict,float,float,dict,dict,float,float,dict,dict,float,float,dict,dict,float,float,dict,dict,int,int,dict,dict,int,int,dict,dict,float,float,dict,dict,float,float,str,str,float,float,dict,dict,float,float,dict,dict,float,float,dict,dict,float,float,dict,dict,float,float,dict,dict,float,float,dict,dict,float,float,dict,dict,float,float,dict,dict,float,float,dict,dict,float,float,dict,dict,int,int,dict,dict,float,float,dict,dict,int,int,dict,dict,int,int,dict,dict,float,float,dict,dict,float,float,dict,dict,int,int,dict,dict,float,float,dict,dict,int,int,dict,dict,float,float,dict,dict,int,int,dict,dict,float,float,str,str,float,float,dict,dict,int,int,dict,dict,float,float,dict,dict,int,int,dict,dict,float,float,dict,dict,int,int,dict,dict,float,float,dict,dict,float,float,str,dict,float,float,dict,dict,float,float,dict,dict,float,float,dict,dict,int,int,dict,dict,float,float,str,str,float,float,dict,dict,float,float,dict,dict,int,int,dict,dict,float,float,dict,dict,float,float,dict,dict,float,float,dict,dict,int,int,dict,dict,float,float,dict,dict,float,float,dict,dict,float,float,dict,dict,float,float,dict,dict,int,int,dict,dict,float,float,dict,dict,int,int,dict,dict,int,int,str,str,float,float,dict,dict,float,float,dict,dict,float,float,dict,dict,float,float,dict,dict,float,float,dict,dict,int,int,str,str,float,float,dict,dict,float,float,dict,dict,float,float,dict,dict,float,float,dict,dict,float,float,dict,dict,float,float,dict,dict,float,float,dict,dict,float,float,str,str,float,float,dict,dict,int,int,dict,dict,int,int,str,dict,float,float,dict,dict,int,int,dict,dict,float,float,dict,dict,float,float,dict,dict,int,int,dict,dict,float,float,str,str,float,float,dict,dict,float,float,dict,dict,int,int,dict,dict,float,float,dict,dict,float,float,dict,dict,float,float,dict,dict,float,float,dict,dict,float,float,dict,str,float,float,dict,dict,int,int,dict,dict,float,float,str,str,float,float,dict,dict,float,float,dict,dict,float,float,str,str,float,float,dict,dict,float,float,dict,dict,float,float,dict,dict,float,float,str,str,float,float,dict,dict,float,float,str,str,float,float,dict,dict,float,float,dict,dict,float,float,dict,dict,int,int,dict,dict,float,float,str,str,float,float,dict,dict,float,float,str,str,float,float,dict,dict,float,float,dict,dict,float,float,dict,dict,float,float,str,str,float,float,dict,dict,float,float,dict,dict,float,float,dict,dict,float,float,dict,dict,float,float,dict,dict,int,int,dict,dict,int,int,dict,dict,int,int,dict,dict,float,float,dict,dict,float,float,str,str,float,float,dict,dict,float,float,str,str,float,float,dict,dict,float,float,dict,dict,float,float,dict,dict,float,float,dict,dict,int,int,dict,dict,float,float,dict,dict,float,float,dict,dict,float,float,dict,dict,float,float,dict,dict,int,int,dict,dict,float,float,dict,dict,float,float,dict,dict,float,float,dict,dict,float,float,str,str,float,float,dict,dict,float,float,dict,dict,float,float,dict,dict,float,float,dict,dict,int,int,dict,dict,float,float,dict,dict,float,float,str,str,float,float,dict,dict,float,float,dict,dict,float,float,dict,dict,float,float,dict,dict,float,float,dict,dict,float,float,dict,dict,float,float,dict,dict,float,float,str,str,float,float,dict,dict,float,float,dict,dict,float,float,str,str,float,float,dict,dict,int,int,dict,dict,float,float,dict,dict,float,float,dict,dict,float,float,dict,dict,float,float,dict,dict,float,float,dict,dict,float,float,dict,dict,float,float,dict,dict,int,int,dict,dict,float,float,dict,dict,int,int,dict,str,float,float,dict,dict,float,float,dict,dict,float,float,dict,dict,float,float,dict,dict,int,int,dict,dict,int,int,dict,dict,float,float,dict,dict,float,float,dict,dict,float,float,dict,dict,float,float,dict,dict,float,float,str,str,float,float,dict,dict,int,int,dict,dict,int,float,dict,dict,int,int,dict,dict,float,float,dict,dict,float,float,dict,dict,float,float,dict,dict,float,float,str,str,float,float,dict,dict,float,float,dict,dict,float,float,dict,dict,int,int,dict,dict,float,float,dict,dict,float,float,str,str,float,float,str,str,float,float,dict,dict,float,float,dict,dict,int,int,dict,dict,float,float,dict,dict,float,float,dict,dict,float,float,str,str,float,float,dict,dict,float,float,dict,dict,int,int,str,str,float,float,dict,dict,int,int,dict,dict,float,float,dict,dict,float,float,dict,dict,float,float,dict,dict,float,float,dict,dict,float,float,dict,dict,float,float,dict,dict,float,float,dict,dict,float,float,dict,dict,float,float,dict,dict,float,float,dict,dict,int,int,dict,dict,float,float,dict,dict,float,float,str,str,float,float,dict,dict,int,int,dict,dict,float,float,str,str,float,float,dict,dict,float,float,str,str,float,float,dict,dict,float,float,dict,dict,int,int,dict,dict,float,float,dict,dict,int,int,dict,dict,float,float,dict,dict,float,float,dict,dict,float,float,dict,dict,int,int,dict,dict,float,float,str,dict,float,float,dict,dict,float,float,dict,dict,float,float,dict,dict,float,float,dict,dict,float,float,str,str,float,float,dict,dict,float,float,dict,dict,float,float,dict,dict,float,float,dict,dict,float,float,dict,dict,float,float,dict,dict,float,float,dict,dict,float,float,dict,dict,float,float,dict,dict,float,float,dict,dict,float,float,dict,dict,float,float,dict,dict,float,float,dict,dict,float,float,dict,dict,int,int,dict,dict,int,int,dict,dict,float,float,dict,dict,int,int,dict,dict,float,float,dict,dict,float,float,dict,dict,float,float,dict,dict,int,int,str,str,float,float,dict,dict,float,float,dict,dict,float,float,dict,dict,float,float,dict,dict,float,float,dict,dict,float,float,dict,dict,float,float,dict,dict,float,float,dict,dict,float,float,dict,dict,float,float,str,str,float,float,dict,dict,float,float,dict,dict,float,float,dict,dict,float,float,dict,dict,int,int,dict,dict,float,float,dict,dict,float,float,str,str,float,float]\n",
      "If parsing fails due to incorrect types, you can correct\n",
      "the inferred type list above and pass it to read_csv in\n",
      "the column_type_hints argument\n",
      "------------------------------------------------------\n",
      "PROGRESS: Finished parsing file /Users/andremendes/OneDrive/Estudar Projects/JFS/Python Data/train_data_processed.csv\n",
      "PROGRESS: Parsing completed. Parsed 10 lines in 0.051289 secs.\n",
      "PROGRESS: Finished parsing file /Users/andremendes/OneDrive/Estudar Projects/JFS/Python Data/test_data_processed.csv\n",
      "PROGRESS: Parsing completed. Parsed 10 lines in 0.021622 secs.\n",
      "------------------------------------------------------\n",
      "Inferred types from first line of file as \n",
      "column_type_hints=[str,str,str,str,str,str,str,str,str,str,str,str,str,str,str,str,str,str,str,str,str,str,str,str,str,str,str,str,str,str,str,str,str,str,str,str,str,str,str,str,str,str,str,str,str,str,str,str,str,str,str,str,str,str,str,str,str,str,str,str,str,str,str,str,str,str,str,str,str,str,str,str,str,str,str,str,str,str,str,str,str,str,str,str,str,str,str,str,dict,str,float,float,dict,dict,int,int,dict,dict,int,int,dict,dict,int,int,str,str,float,float,dict,dict,float,float,str,str,float,float,dict,dict,int,int,dict,dict,int,int,dict,dict,float,float,dict,dict,float,float,dict,dict,int,int,dict,dict,int,int,dict,dict,float,float,dict,dict,float,float,dict,dict,int,int,dict,dict,float,float,str,str,float,float,str,str,float,float,dict,dict,float,float,dict,dict,float,float,dict,dict,float,float,dict,dict,float,float,dict,dict,float,float,dict,dict,float,float,dict,dict,float,float,dict,dict,float,float,dict,dict,float,float,dict,dict,float,float,dict,dict,int,int,dict,dict,float,float,dict,dict,float,float,str,str,float,float,dict,dict,float,float,dict,dict,int,int,dict,dict,int,int,dict,dict,int,int,dict,dict,int,int,str,str,float,float,dict,dict,float,float,dict,dict,float,float,dict,dict,int,int,dict,dict,float,float,dict,dict,int,int,dict,dict,float,float,dict,dict,float,float,dict,dict,float,float,dict,dict,int,int,dict,dict,float,float,dict,dict,float,float,dict,dict,float,float,dict,dict,float,float,str,str,float,float,dict,dict,float,float,dict,dict,float,float,dict,dict,float,float,dict,dict,float,float,dict,dict,int,int,dict,dict,int,int,dict,dict,int,int,dict,dict,int,int,dict,dict,float,float,dict,dict,float,float,dict,dict,float,float,dict,dict,float,float,dict,dict,float,float,dict,dict,float,float,str,str,float,float,dict,dict,float,float,dict,dict,float,float,dict,dict,float,float,str,str,float,float,dict,dict,float,float,dict,dict,float,float,dict,dict,float,float,dict,dict,int,int,dict,dict,float,float,dict,dict,int,int,dict,dict,float,float,dict,dict,float,float,dict,dict,float,float,dict,dict,float,float,dict,dict,float,float,dict,dict,float,float,str,str,float,float,dict,dict,float,float,str,str,float,float]\n",
      "If parsing fails due to incorrect types, you can correct\n",
      "the inferred type list above and pass it to read_csv in\n",
      "the column_type_hints argument\n",
      "------------------------------------------------------\n",
      "PROGRESS: Finished parsing file /Users/andremendes/OneDrive/Estudar Projects/JFS/Python Data/test_data_processed.csv\n",
      "PROGRESS: Parsing completed. Parsed 10 lines in 0.022602 secs.\n"
     ]
    }
   ],
   "source": [
    "path = '/Users/andremendes/OneDrive/Estudar Projects/JFS/Python Data/'\n",
    "train_data = gl.SFrame.read_csv(path+'train_data_processed.csv')\n",
    "test_data = gl.SFrame.read_csv(path+'test_data_processed.csv')\n",
    "candidates_pd = pd.read_csv(path+'train_data_candidates.csv')\n",
    "candidates_pd2 = pd.read_csv(path+'test_data_candidates.csv')"
   ]
  },
  {
   "cell_type": "markdown",
   "metadata": {},
   "source": [
    "##Get candidates reference"
   ]
  },
  {
   "cell_type": "code",
   "execution_count": 3,
   "metadata": {
    "collapsed": false
   },
   "outputs": [],
   "source": [
    "#train\n",
    "candidates_pd['0'].astype(str)\n",
    "candidates_train = candidates_pd['0'].astype(str)\n",
    "\n",
    "#test\n",
    "candidates_pd2['0'].astype(str)\n",
    "candidates_test = candidates_pd2['0'].astype(str)"
   ]
  },
  {
   "cell_type": "markdown",
   "metadata": {},
   "source": [
    "##Get only the columns with the positive and negative scores for each candidate"
   ]
  },
  {
   "cell_type": "code",
   "execution_count": 4,
   "metadata": {
    "collapsed": false
   },
   "outputs": [],
   "source": [
    "#Train\n",
    "scores_train1 = gl.SFrame({\"test\":train_data[candidates_train[0]+'_positive']})\n",
    "scores_train2 = gl.SFrame({\"test\":train_data[candidates_train[0]+'_positive']})\n",
    "\n",
    "for email in candidates_train:\n",
    "    scores_train1[email]=train_data[email+'_positive']\n",
    "    scores_train2[email]=train_data[email+'_negative']\n",
    "\n",
    "del scores_train1['test']\n",
    "del scores_train2['test']\n",
    "\n",
    "#Test\n",
    "scores_test1 = gl.SFrame({\"test\":test_data[candidates_test[0]+'_positive']})\n",
    "scores_test2 = gl.SFrame({\"test\":test_data[candidates_test[0]+'_positive']})\n",
    "\n",
    "for email in candidates_test:\n",
    "    scores_test1[email]=test_data[email+'_positive']\n",
    "    scores_test2[email]=test_data[email+'_negative']\n",
    "\n",
    "del scores_test1['test']\n",
    "del scores_test2['test']"
   ]
  },
  {
   "cell_type": "markdown",
   "metadata": {},
   "source": [
    "##Generate matrix with potitive and negative scores together"
   ]
  },
  {
   "cell_type": "code",
   "execution_count": 5,
   "metadata": {
    "collapsed": false
   },
   "outputs": [],
   "source": [
    "#train\n",
    "scores1_pd = scores_train1.to_dataframe()\n",
    "scores2_pd = scores_train2.to_dataframe()\n",
    "scores = scores1_pd.append(scores2_pd)\n",
    "train_data_scores = scores.transpose()\n",
    "\n",
    "train_data_scores.columns = ['AE1_p','AEDP1_p','AE2_p','AEDP2_p','AE3_p','AEDP3_p','HP 1_p','HP 2_p',\n",
    "                  'HP 3_p','PAP_p','AE1_n','AEDP1_n','AE2_n','AEDP2_n','AE3_n','AEDP3_n',\n",
    "                  'HP 1_n','HP 2_n','HP 3_n','PAP_n']\n",
    "\n",
    "#test\n",
    "scores1_pd = scores_test1.to_dataframe()\n",
    "scores2_pd = scores_test2.to_dataframe()\n",
    "scores = scores1_pd.append(scores2_pd)\n",
    "test_data_scores = scores.transpose()\n",
    "\n",
    "test_data_scores.columns = ['AE1_p','AEDP1_p','AE2_p','AEDP2_p','AE3_p','AEDP3_p','HP 1_p','HP 2_p',\n",
    "                  'HP 3_p','PAP_p','AE1_n','AEDP1_n','AE2_n','AEDP2_n','AE3_n','AEDP3_n',\n",
    "                  'HP 1_n','HP 2_n','HP 3_n','PAP_n']\n"
   ]
  },
  {
   "cell_type": "markdown",
   "metadata": {},
   "source": [
    "##Save the data"
   ]
  },
  {
   "cell_type": "code",
   "execution_count": 6,
   "metadata": {
    "collapsed": false
   },
   "outputs": [],
   "source": [
    "train_data_scores.to_csv('/Users/andremendes/OneDrive/Estudar Projects/JFS/Python Data/train_data_scores.csv')\n",
    "test_data_scores.to_csv('/Users/andremendes/OneDrive/Estudar Projects/JFS/Python Data/test_data_scores.csv')"
   ]
  }
 ],
 "metadata": {
  "kernelspec": {
   "display_name": "Python 2",
   "language": "python",
   "name": "python2"
  },
  "language_info": {
   "codemirror_mode": {
    "name": "ipython",
    "version": 2
   },
   "file_extension": ".py",
   "mimetype": "text/x-python",
   "name": "python",
   "nbconvert_exporter": "python",
   "pygments_lexer": "ipython2",
   "version": "2.7.10"
  }
 },
 "nbformat": 4,
 "nbformat_minor": 0
}
